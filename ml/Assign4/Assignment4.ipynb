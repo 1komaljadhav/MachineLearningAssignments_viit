{
  "nbformat": 4,
  "nbformat_minor": 0,
  "metadata": {
    "colab": {
      "provenance": []
    },
    "kernelspec": {
      "name": "python3",
      "display_name": "Python 3"
    },
    "language_info": {
      "name": "python"
    }
  },
  "cells": [
    {
      "cell_type": "code",
      "execution_count": null,
      "metadata": {
        "id": "bH74uELv8UYx"
      },
      "outputs": [],
      "source": [
        "import numpy as np"
      ]
    },
    {
      "cell_type": "code",
      "source": [
        "points = np.array([[0.1, 0.6],\n",
        "                   [0.15, 0.71],\n",
        "                   [0.08, 0.9],\n",
        "                   [0.16, 0.85],\n",
        "                   [0.2, 0.3],\n",
        "                   [0.25, 0.5],\n",
        "                   [0.24, 0.1],\n",
        "                   [0.3, 0.2]])"
      ],
      "metadata": {
        "id": "QdMLxh3E8ZSm"
      },
      "execution_count": null,
      "outputs": []
    },
    {
      "cell_type": "code",
      "source": [
        "m1 = np.array([0.1, 0.6])\n",
        "m2 = np.array([0.3, 0.2])"
      ],
      "metadata": {
        "id": "O5IknYef8bTS"
      },
      "execution_count": null,
      "outputs": []
    },
    {
      "cell_type": "code",
      "source": [
        "def euclidean_distance(x1, y1, x2, y2):\n",
        "    return np.sqrt((x1 - x2) ** 2 + (y1 - y2) ** 2)"
      ],
      "metadata": {
        "id": "qwA_p9Wa8dQf"
      },
      "execution_count": null,
      "outputs": []
    },
    {
      "cell_type": "code",
      "source": [
        "# K-means clustering\n",
        "def kmeans(points, m1, m2):\n",
        "    clusters = {}\n",
        "    while True:\n",
        "        for point in points:\n",
        "            dist_to_m1 = euclidean_distance(point[0], point[1], m1[0], m1[1])\n",
        "            dist_to_m2 = euclidean_distance(point[0], point[1], m2[0], m2[1])\n",
        "            if dist_to_m1 < dist_to_m2:\n",
        "                if 'C1' in clusters:\n",
        "                    clusters['C1'].append(point)\n",
        "                else:\n",
        "                    clusters['C1'] = [point]\n",
        "            else:\n",
        "                if 'C2' in clusters:\n",
        "                    clusters['C2'].append(point)\n",
        "                else:\n",
        "                    clusters['C2'] = [point]\n",
        "\n",
        "        new_m1 = np.mean(clusters['C1'], axis=0)\n",
        "        new_m2 = np.mean(clusters['C2'], axis=0)\n",
        "\n",
        "        if np.array_equal(new_m1, m1) and np.array_equal(new_m2, m2):\n",
        "            break\n",
        "\n",
        "        m1 = new_m1\n",
        "        m2 = new_m2\n",
        "        clusters.clear()\n",
        "\n",
        "    return clusters, m1, m2"
      ],
      "metadata": {
        "id": "6cqlfwfZ8gGW"
      },
      "execution_count": null,
      "outputs": []
    },
    {
      "cell_type": "code",
      "source": [
        "clusters, updated_m1, updated_m2 = kmeans(points, m1, m2)\n",
        "\n",
        "# Results\n",
        "print(\"Clusters:\", clusters)\n",
        "print(\"Updated m1:\", updated_m1)\n",
        "print(\"Updated m2:\", updated_m2)"
      ],
      "metadata": {
        "colab": {
          "base_uri": "https://localhost:8080/"
        },
        "id": "PVcs_65v8mTK",
        "outputId": "cc723aea-383f-4f60-efdc-711f08f63db8"
      },
      "execution_count": null,
      "outputs": [
        {
          "output_type": "stream",
          "name": "stdout",
          "text": [
            "Clusters: {'C1': [array([0.1, 0.6]), array([0.15, 0.71]), array([0.08, 0.9 ]), array([0.16, 0.85]), array([0.25, 0.5 ])], 'C2': [array([0.2, 0.3]), array([0.24, 0.1 ]), array([0.3, 0.2])]}\n",
            "Updated m1: [0.148 0.712]\n",
            "Updated m2: [0.24666667 0.2       ]\n"
          ]
        }
      ]
    },
    {
      "source": [
        "point_p6 = np.array([0.25, 0.5])"
      ],
      "cell_type": "code",
      "metadata": {
        "id": "qUsh4s5b9m8z"
      },
      "execution_count": null,
      "outputs": []
    },
    {
      "source": [
        "for cluster, points in clusters.items():\n",
        "    if np.in1d(point_p6, points).any():\n",
        "        print(\"Point P6 belongs to cluster\", cluster)"
      ],
      "cell_type": "code",
      "metadata": {
        "colab": {
          "base_uri": "https://localhost:8080/"
        },
        "id": "ndnuovCF9nT8",
        "outputId": "44cb43b2-8820-4cbb-9a01-61da0af3c893"
      },
      "execution_count": null,
      "outputs": [
        {
          "output_type": "stream",
          "name": "stdout",
          "text": [
            "Point P6 belongs to cluster C1\n"
          ]
        }
      ]
    },
    {
      "cell_type": "code",
      "source": [
        "if 'C2' in clusters:\n",
        "    print(\"Population of cluster around m2:\", len(clusters['C2']))\n",
        "else:\n",
        "    print(\"Cluster around m2 is empty\")"
      ],
      "metadata": {
        "colab": {
          "base_uri": "https://localhost:8080/"
        },
        "id": "4yZsT-Ji8sIh",
        "outputId": "07fa7392-a1ec-4956-dff5-415ea1c728a3"
      },
      "execution_count": null,
      "outputs": [
        {
          "output_type": "stream",
          "name": "stdout",
          "text": [
            "Population of cluster around m2: 3\n"
          ]
        }
      ]
    },
    {
      "cell_type": "code",
      "source": [
        "print(\"Updated m1:\", updated_m1)\n",
        "print(\"Updated m2:\", updated_m2)"
      ],
      "metadata": {
        "colab": {
          "base_uri": "https://localhost:8080/"
        },
        "id": "oEvGia1P8thT",
        "outputId": "3c925f2a-1219-40d3-a36c-8b92585c990d"
      },
      "execution_count": null,
      "outputs": [
        {
          "output_type": "stream",
          "name": "stdout",
          "text": [
            "Updated m1: [0.148 0.712]\n",
            "Updated m2: [0.24666667 0.2       ]\n"
          ]
        }
      ]
    },
    {
      "cell_type": "code",
      "source": [],
      "metadata": {
        "id": "BS4loKTp9thu"
      },
      "execution_count": null,
      "outputs": []
    }
  ]
}